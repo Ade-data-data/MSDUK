{
 "cells": [
  {
   "cell_type": "code",
   "execution_count": 1,
   "id": "2ca482cc",
   "metadata": {},
   "outputs": [],
   "source": [
    "import pandas as pd\n",
    "import requests\n",
    "import json\n",
    "\n",
    "#Obtain the API Key and set in the header of your request using the X-API-KEY property.\n",
    "headers = {\n",
    "  \"X-API-KEY\": \"2ca457983d066f8aa05e490060b2802a\",\n",
    " \"Accept\": \"application/json\"\n",
    "}\n"
   ]
  },
  {
   "cell_type": "code",
   "execution_count": 2,
   "id": "f5a36949",
   "metadata": {},
   "outputs": [
    {
     "name": "stdout",
     "output_type": "stream",
     "text": [
      "{\"script\":\"LATIN\",\"id\":\"e19ccf36-41ad-43da-9f32-2348da31d887\",\"firstName\":\"William\",\"lastName\":\"Smith\",\"score\":2.392106432085577,\"ethnicityAlt\":\"HispanoLatino\",\"ethnicity\":\"British\",\"lifted\":false,\"countryIso2\":\"US\",\"ethnicitiesTop\":[\"British\",\"HispanoLatino\",\"AfricanAmerican\",\"Irish\",\"NativeHawaiian\",\"English\",\"TrinidadTobago\",\"Jewish\",\"Scottish\",\"Dutch\"],\"probabilityCalibrated\":0.2728408685665533,\"probabilityAltCalibrated\":0.46054827013571437}\n"
     ]
    },
    {
     "data": {
      "text/html": [
       "<div>\n",
       "<style scoped>\n",
       "    .dataframe tbody tr th:only-of-type {\n",
       "        vertical-align: middle;\n",
       "    }\n",
       "\n",
       "    .dataframe tbody tr th {\n",
       "        vertical-align: top;\n",
       "    }\n",
       "\n",
       "    .dataframe thead th {\n",
       "        text-align: right;\n",
       "    }\n",
       "</style>\n",
       "<table border=\"1\" class=\"dataframe\">\n",
       "  <thead>\n",
       "    <tr style=\"text-align: right;\">\n",
       "      <th></th>\n",
       "      <th>firstName</th>\n",
       "      <th>lastName</th>\n",
       "      <th>ethnicityAlt</th>\n",
       "      <th>ethnicity</th>\n",
       "    </tr>\n",
       "  </thead>\n",
       "  <tbody>\n",
       "    <tr>\n",
       "      <th>0</th>\n",
       "      <td>William,</td>\n",
       "      <td>Smith,</td>\n",
       "      <td>HispanoLatino,</td>\n",
       "      <td>British,</td>\n",
       "    </tr>\n",
       "  </tbody>\n",
       "</table>\n",
       "</div>"
      ],
      "text/plain": [
       "  firstName lastName    ethnicityAlt ethnicity\n",
       "0  William,   Smith,  HispanoLatino,  British,"
      ]
     },
     "execution_count": 2,
     "metadata": {},
     "output_type": "execute_result"
    }
   ],
   "source": [
    "#We make use of the GET parameter for the HTTP request\n",
    "#Request parameters\n",
    "\n",
    "url = \"https://v2.namsor.com/NamSorAPIv2/api2/json/diaspora/US/William/Smith\"\n",
    "response = requests.request(\"GET\", url, headers=headers)\n",
    "print(response.text)\n",
    "\n",
    "#Writing JSON to a file, we need to ensure that the data type is in json format\n",
    "William_Smith = response.json()\n",
    "\n",
    "#we have opened a file named .txt in writing mode using 'w'. If the file doesn't already exist, it will be created. \n",
    "#Then, json.dump() transforms dictionary to a JSON string which will be saved in the .txt file.\n",
    "#When you run the program, the .txt file will be created.\n",
    "with open('William_Smith.txt', 'w') as json_file:\n",
    "  json.dump(William_Smith, json_file)\n",
    "\n",
    "#Importing the .txt file\n",
    "data = pd.read_csv('William_Smith.txt', sep=\" \", header=None )\n",
    "\n",
    "#create DataFrame and select the columns for First Name, Last Name, Ethnicity, Alternate Ethnicity\n",
    "William_Smith = pd.DataFrame(data, columns=[5,7,11,13])\n",
    "#Renaming column name in Pandas\n",
    "William_Smith.rename({5: 'firstName',7:'lastName', 11:'ethnicityAlt', 13:'ethnicity'}, axis=1, inplace=True)\n",
    "William_Smith.head()"
   ]
  },
  {
   "cell_type": "code",
   "execution_count": 27,
   "id": "39b6c0f7",
   "metadata": {},
   "outputs": [
    {
     "name": "stdout",
     "output_type": "stream",
     "text": [
      "{\"script\":\"LATIN\",\"id\":\"5c1f5979-47fd-4879-a92d-7bb1c088368a\",\"firstName\":\"Davies\",\"lastName\":\"Okeowo\",\"score\":36.565207173909066,\"ethnicityAlt\":\"Kenyan\",\"ethnicity\":\"Nigerian\",\"lifted\":false,\"countryIso2\":\"US\",\"ethnicitiesTop\":[\"Nigerian\",\"Kenyan\",\"Ugandan\",\"Congolese\",\"Ghanaian\",\"NativeHawaiian\",\"Beninese\",\"Gabon\",\"AfricanAmerican\",\"Zambian\"],\"probabilityCalibrated\":0.944769602378298,\"probabilityAltCalibrated\":0.944769602378298}\n"
     ]
    },
    {
     "data": {
      "text/html": [
       "<div>\n",
       "<style scoped>\n",
       "    .dataframe tbody tr th:only-of-type {\n",
       "        vertical-align: middle;\n",
       "    }\n",
       "\n",
       "    .dataframe tbody tr th {\n",
       "        vertical-align: top;\n",
       "    }\n",
       "\n",
       "    .dataframe thead th {\n",
       "        text-align: right;\n",
       "    }\n",
       "</style>\n",
       "<table border=\"1\" class=\"dataframe\">\n",
       "  <thead>\n",
       "    <tr style=\"text-align: right;\">\n",
       "      <th></th>\n",
       "      <th>firstName</th>\n",
       "      <th>lastName</th>\n",
       "      <th>ethnicityAlt</th>\n",
       "      <th>ethnicity</th>\n",
       "    </tr>\n",
       "  </thead>\n",
       "  <tbody>\n",
       "    <tr>\n",
       "      <th>0</th>\n",
       "      <td>Davies,</td>\n",
       "      <td>Okeowo,</td>\n",
       "      <td>Kenyan,</td>\n",
       "      <td>Nigerian,</td>\n",
       "    </tr>\n",
       "  </tbody>\n",
       "</table>\n",
       "</div>"
      ],
      "text/plain": [
       "  firstName lastName ethnicityAlt  ethnicity\n",
       "0   Davies,  Okeowo,      Kenyan,  Nigerian,"
      ]
     },
     "execution_count": 27,
     "metadata": {},
     "output_type": "execute_result"
    }
   ],
   "source": [
    "url = \"https://v2.namsor.com/NamSorAPIv2/api2/json/diaspora/US/Davies/Okeowo\"\n",
    "response = requests.request(\"GET\", url, headers=headers)\n",
    "print(response.text)\n",
    "\n",
    "#Writing JSON to a file, we need to ensure that the data type is in json format\n",
    "Davies_Okeowo = response.json()\n",
    "\n",
    "#we have opened a file named .txt in writing mode using 'w'. If the file doesn't already exist, it will be created. \n",
    "#Then, json.dump() transforms dictionary to a JSON string which will be saved in the .txt file.\n",
    "#When you run the program, the .txt file will be created.\n",
    "with open('Davies_Okeowo.txt', 'w') as json_file:\n",
    "  json.dump(Davies_Okeowo, json_file)\n",
    "\n",
    "#Importing the .txt file\n",
    "data = pd.read_csv('Davies_Okeowo.txt', sep=\" \", header=None )\n",
    "\n",
    "#create DataFrame and select the columns for First Name, Last Name, Ethnicity, Alternate Ethnicity\n",
    "Davies_Okeowo = pd.DataFrame(data, columns=[5,7,11,13])\n",
    "#Renaming column name in Pandas\n",
    "Davies_Okeowo.rename({5: 'firstName',7:'lastName', 11:'ethnicityAlt', 13:'ethnicity'}, axis=1, inplace=True)\n",
    "Davies_Okeowo.head()"
   ]
  },
  {
   "cell_type": "code",
   "execution_count": 3,
   "id": "67068cab",
   "metadata": {},
   "outputs": [
    {
     "name": "stdout",
     "output_type": "stream",
     "text": [
      "{\"script\":\"LATIN\",\"id\":\"0779b5da-42c2-4d84-afe7-43a6a68263e4\",\"firstName\":\"Zere\",\"lastName\":\"Iskinder\",\"score\":1.8307054787916495,\"ethnicityAlt\":\"Turkish\",\"ethnicity\":\"Jewish\",\"lifted\":false,\"countryIso2\":\"US\",\"ethnicitiesTop\":[\"Jewish\",\"Turkish\",\"AfricanAmerican\",\"Swedish\",\"Ethiopian\",\"HispanoLatino\",\"Austrian\",\"Palestinian\",\"German\",\"Egyptian\"],\"probabilityCalibrated\":0.25090218101403966,\"probabilityAltCalibrated\":0.3729229594880758}\n"
     ]
    },
    {
     "data": {
      "text/html": [
       "<div>\n",
       "<style scoped>\n",
       "    .dataframe tbody tr th:only-of-type {\n",
       "        vertical-align: middle;\n",
       "    }\n",
       "\n",
       "    .dataframe tbody tr th {\n",
       "        vertical-align: top;\n",
       "    }\n",
       "\n",
       "    .dataframe thead th {\n",
       "        text-align: right;\n",
       "    }\n",
       "</style>\n",
       "<table border=\"1\" class=\"dataframe\">\n",
       "  <thead>\n",
       "    <tr style=\"text-align: right;\">\n",
       "      <th></th>\n",
       "      <th>firstName</th>\n",
       "      <th>lastName</th>\n",
       "      <th>ethnicityAlt</th>\n",
       "      <th>ethnicity</th>\n",
       "    </tr>\n",
       "  </thead>\n",
       "  <tbody>\n",
       "    <tr>\n",
       "      <th>0</th>\n",
       "      <td>Zere,</td>\n",
       "      <td>Iskinder,</td>\n",
       "      <td>Turkish,</td>\n",
       "      <td>Jewish,</td>\n",
       "    </tr>\n",
       "  </tbody>\n",
       "</table>\n",
       "</div>"
      ],
      "text/plain": [
       "  firstName   lastName ethnicityAlt ethnicity\n",
       "0     Zere,  Iskinder,     Turkish,   Jewish,"
      ]
     },
     "execution_count": 3,
     "metadata": {},
     "output_type": "execute_result"
    }
   ],
   "source": [
    "url = \"https://v2.namsor.com/NamSorAPIv2/api2/json/diaspora/US/Zere/Iskinder\"\n",
    "response = requests.request(\"GET\", url, headers=headers)\n",
    "print(response.text)\n",
    "\n",
    "#Writing JSON to a file, we need to ensure that the data type is in json format\n",
    "Zere_Iskinder = response.json()\n",
    "\n",
    "#we have opened a file named .txt in writing mode using 'w'. If the file doesn't already exist, it will be created. \n",
    "#Then, json.dump() transforms dictionary to a JSON string which will be saved in the .txt file.\n",
    "#When you run the program, the .txt file will be created.\n",
    "with open('Zere_Iskinder.txt', 'w') as json_file:\n",
    "  json.dump(Zere_Iskinder, json_file)\n",
    "\n",
    "#Importing the .txt file\n",
    "data = pd.read_csv('Zere_Iskinder.txt', sep=\" \", header=None )\n",
    "\n",
    "#create DataFrame and select the columns for First Name, Last Name, Ethnicity, Alternate Ethnicity\n",
    "Zere_Iskinder = pd.DataFrame(data, columns=[5,7,11,13])\n",
    "#Renaming column name in Pandas\n",
    "Zere_Iskinder.rename({5: 'firstName',7:'lastName', 11:'ethnicityAlt', 13:'ethnicity'}, axis=1, inplace=True)\n",
    "Zere_Iskinder.head()"
   ]
  },
  {
   "cell_type": "code",
   "execution_count": 4,
   "id": "54a84b28",
   "metadata": {},
   "outputs": [
    {
     "name": "stdout",
     "output_type": "stream",
     "text": [
      "{\"script\":\"LATIN\",\"id\":\"7859e900-5a51-4a75-8a5f-747f7cda80a4\",\"firstName\":\"Emiliano\",\"lastName\":\"Fuerte\",\"score\":23.655550195100307,\"ethnicityAlt\":\"Portuguese\",\"ethnicity\":\"Hispanic\",\"lifted\":false,\"countryIso2\":\"US\",\"ethnicitiesTop\":[\"Hispanic\",\"Portuguese\",\"Mozambican\",\"Italian\",\"HispanoLatino\",\"Angola\",\"NativeHawaiian\",\"Catalan\",\"French\",\"Jewish\"],\"probabilityCalibrated\":0.8355638562077383,\"probabilityAltCalibrated\":0.9263193746148107}\n"
     ]
    },
    {
     "data": {
      "text/html": [
       "<div>\n",
       "<style scoped>\n",
       "    .dataframe tbody tr th:only-of-type {\n",
       "        vertical-align: middle;\n",
       "    }\n",
       "\n",
       "    .dataframe tbody tr th {\n",
       "        vertical-align: top;\n",
       "    }\n",
       "\n",
       "    .dataframe thead th {\n",
       "        text-align: right;\n",
       "    }\n",
       "</style>\n",
       "<table border=\"1\" class=\"dataframe\">\n",
       "  <thead>\n",
       "    <tr style=\"text-align: right;\">\n",
       "      <th></th>\n",
       "      <th>firstName</th>\n",
       "      <th>lastName</th>\n",
       "      <th>ethnicityAlt</th>\n",
       "      <th>ethnicity</th>\n",
       "    </tr>\n",
       "  </thead>\n",
       "  <tbody>\n",
       "    <tr>\n",
       "      <th>0</th>\n",
       "      <td>Emiliano,</td>\n",
       "      <td>Fuerte,</td>\n",
       "      <td>Portuguese,</td>\n",
       "      <td>Hispanic,</td>\n",
       "    </tr>\n",
       "  </tbody>\n",
       "</table>\n",
       "</div>"
      ],
      "text/plain": [
       "   firstName lastName ethnicityAlt  ethnicity\n",
       "0  Emiliano,  Fuerte,  Portuguese,  Hispanic,"
      ]
     },
     "execution_count": 4,
     "metadata": {},
     "output_type": "execute_result"
    }
   ],
   "source": [
    "url = \"https://v2.namsor.com/NamSorAPIv2/api2/json/diaspora/US/Emiliano/Fuerte\"\n",
    "response = requests.request(\"GET\", url, headers=headers)\n",
    "print(response.text)\n",
    "\n",
    "#Writing JSON to a file, we need to ensure that the data type is in json format\n",
    "Emiliano_Fuerte = response.json()\n",
    "\n",
    "#we have opened a file named .txt in writing mode using 'w'. If the file doesn't already exist, it will be created. \n",
    "#Then, json.dump() transforms dictionary to a JSON string which will be saved in the .txt file.\n",
    "#When you run the program, the .txt file will be created.\n",
    "with open('Emiliano_Fuerte.txt', 'w') as json_file:\n",
    "  json.dump(Emiliano_Fuerte, json_file)\n",
    "\n",
    "\n",
    "#Importing the .txt file\n",
    "data = pd.read_csv('Emiliano_Fuerte.txt', sep=\" \", header=None )\n",
    "\n",
    "#create DataFrame and select the columns for First Name, Last Name, Ethnicity, Alternate Ethnicity\n",
    "Emiliano_Fuerte = pd.DataFrame(data, columns=[5,7,11,13])\n",
    "#Renaming column name in Pandas\n",
    "Emiliano_Fuerte.rename({5: 'firstName',7:'lastName', 11:'ethnicityAlt', 13:'ethnicity'}, axis=1, inplace=True)\n",
    "Emiliano_Fuerte.head()"
   ]
  },
  {
   "cell_type": "code",
   "execution_count": 5,
   "id": "6e4b62c2",
   "metadata": {},
   "outputs": [
    {
     "name": "stdout",
     "output_type": "stream",
     "text": [
      "{\"script\":\"LATIN\",\"id\":\"0ddb68c3-5b8b-4b37-ae56-f9b623a7edbb\",\"firstName\":\"Emigdio\",\"lastName\":\"Valle\",\"score\":10.978907073416416,\"ethnicityAlt\":\"French\",\"ethnicity\":\"Hispanic\",\"lifted\":false,\"countryIso2\":\"US\",\"ethnicitiesTop\":[\"Hispanic\",\"French\",\"Portuguese\",\"Italian\",\"Catalan\",\"HispanoLatino\",\"NativeHawaiian\",\"Jewish\",\"AfricanAmerican\",\"Flemish\"],\"probabilityCalibrated\":0.5899636037012569,\"probabilityAltCalibrated\":0.5899636037012569}\n"
     ]
    },
    {
     "data": {
      "text/html": [
       "<div>\n",
       "<style scoped>\n",
       "    .dataframe tbody tr th:only-of-type {\n",
       "        vertical-align: middle;\n",
       "    }\n",
       "\n",
       "    .dataframe tbody tr th {\n",
       "        vertical-align: top;\n",
       "    }\n",
       "\n",
       "    .dataframe thead th {\n",
       "        text-align: right;\n",
       "    }\n",
       "</style>\n",
       "<table border=\"1\" class=\"dataframe\">\n",
       "  <thead>\n",
       "    <tr style=\"text-align: right;\">\n",
       "      <th></th>\n",
       "      <th>firstName</th>\n",
       "      <th>lastName</th>\n",
       "      <th>ethnicityAlt</th>\n",
       "      <th>ethnicity</th>\n",
       "    </tr>\n",
       "  </thead>\n",
       "  <tbody>\n",
       "    <tr>\n",
       "      <th>0</th>\n",
       "      <td>Emigdio,</td>\n",
       "      <td>Valle,</td>\n",
       "      <td>French,</td>\n",
       "      <td>Hispanic,</td>\n",
       "    </tr>\n",
       "  </tbody>\n",
       "</table>\n",
       "</div>"
      ],
      "text/plain": [
       "  firstName lastName ethnicityAlt  ethnicity\n",
       "0  Emigdio,   Valle,      French,  Hispanic,"
      ]
     },
     "execution_count": 5,
     "metadata": {},
     "output_type": "execute_result"
    }
   ],
   "source": [
    "url = \"https://v2.namsor.com/NamSorAPIv2/api2/json/diaspora/US/Emigdio/Valle\"\n",
    "response = requests.request(\"GET\", url, headers=headers)\n",
    "print(response.text)\n",
    "\n",
    "#Writing JSON to a file, we need to ensure that the data type is in json format\n",
    "Emigdio_Valle = response.json()\n",
    "\n",
    "#we have opened a file named .txt in writing mode using 'w'. If the file doesn't already exist, it will be created. \n",
    "#Then, json.dump() transforms dictionary to a JSON string which will be saved in the .txt file.\n",
    "#When you run the program, the .txt file will be created.\n",
    "with open('Emigdio_Valle.txt', 'w') as json_file:\n",
    "  json.dump(Emigdio_Valle, json_file)\n",
    "\n",
    "#Importing the .txt file\n",
    "data = pd.read_csv('Emigdio_Valle.txt', sep=\" \", header=None )\n",
    "\n",
    "#create DataFrame and select the columns for First Name, Last Name, Ethnicity, Alternate Ethnicity\n",
    "Emigdio_Valle = pd.DataFrame(data, columns=[5,7,11,13])\n",
    "#Renaming column name in Pandas\n",
    "Emigdio_Valle.rename({5: 'firstName',7:'lastName', 11:'ethnicityAlt', 13:'ethnicity'}, axis=1, inplace=True)\n",
    "Emigdio_Valle.head()"
   ]
  },
  {
   "cell_type": "code",
   "execution_count": 6,
   "id": "fed0de4d",
   "metadata": {},
   "outputs": [
    {
     "name": "stdout",
     "output_type": "stream",
     "text": [
      "{\"script\":\"LATIN\",\"id\":\"e7c5fd64-ead9-400c-bbd8-75cb214de131\",\"firstName\":\"Juliet\",\"lastName\":\"Grant\",\"score\":5.17144082258919,\"ethnicityAlt\":\"AfricanAmerican\",\"ethnicity\":\"British\",\"lifted\":false,\"countryIso2\":\"US\",\"ethnicitiesTop\":[\"British\",\"AfricanAmerican\",\"HispanoLatino\",\"TrinidadTobago\",\"French\",\"Irish\",\"Swedish\",\"Jewish\",\"English\",\"Scottish\"],\"probabilityCalibrated\":0.40398787748817155,\"probabilityAltCalibrated\":0.46519213711751795}\n"
     ]
    },
    {
     "data": {
      "text/html": [
       "<div>\n",
       "<style scoped>\n",
       "    .dataframe tbody tr th:only-of-type {\n",
       "        vertical-align: middle;\n",
       "    }\n",
       "\n",
       "    .dataframe tbody tr th {\n",
       "        vertical-align: top;\n",
       "    }\n",
       "\n",
       "    .dataframe thead th {\n",
       "        text-align: right;\n",
       "    }\n",
       "</style>\n",
       "<table border=\"1\" class=\"dataframe\">\n",
       "  <thead>\n",
       "    <tr style=\"text-align: right;\">\n",
       "      <th></th>\n",
       "      <th>firstName</th>\n",
       "      <th>lastName</th>\n",
       "      <th>ethnicityAlt</th>\n",
       "      <th>ethnicity</th>\n",
       "    </tr>\n",
       "  </thead>\n",
       "  <tbody>\n",
       "    <tr>\n",
       "      <th>0</th>\n",
       "      <td>Juliet,</td>\n",
       "      <td>Grant,</td>\n",
       "      <td>AfricanAmerican,</td>\n",
       "      <td>British,</td>\n",
       "    </tr>\n",
       "  </tbody>\n",
       "</table>\n",
       "</div>"
      ],
      "text/plain": [
       "  firstName lastName      ethnicityAlt ethnicity\n",
       "0   Juliet,   Grant,  AfricanAmerican,  British,"
      ]
     },
     "execution_count": 6,
     "metadata": {},
     "output_type": "execute_result"
    }
   ],
   "source": [
    "url = \"https://v2.namsor.com/NamSorAPIv2/api2/json/diaspora/US/Juliet/Grant\"\n",
    "response = requests.request(\"GET\", url, headers=headers)\n",
    "print(response.text)\n",
    "\n",
    "#Writing JSON to a file, we need to ensure that the data type is in json format\n",
    "Juliet_Grant = response.json()\n",
    "\n",
    "#we have opened a file named .txt in writing mode using 'w'. If the file doesn't already exist, it will be created. \n",
    "#Then, json.dump() transforms dictionary to a JSON string which will be saved in the .txt file.\n",
    "#When you run the program, the .txt file will be created.\n",
    "with open('Juliet_Grant.txt', 'w') as json_file:\n",
    "  json.dump(Juliet_Grant, json_file)\n",
    "\n",
    "#Importing the .txt file\n",
    "data = pd.read_csv('Juliet_Grant.txt', sep=\" \", header=None )\n",
    "\n",
    "#create DataFrame and select the columns for First Name, Last Name, Ethnicity, Alternate Ethnicity\n",
    "Juliet_Grant = pd.DataFrame(data, columns=[5,7,11,13])\n",
    "#Renaming column name in Pandas\n",
    "Juliet_Grant.rename({5: 'firstName',7:'lastName', 11:'ethnicityAlt', 13:'ethnicity'}, axis=1, inplace=True)\n",
    "Juliet_Grant.head()"
   ]
  },
  {
   "cell_type": "code",
   "execution_count": 7,
   "id": "c9e73d20",
   "metadata": {},
   "outputs": [
    {
     "name": "stdout",
     "output_type": "stream",
     "text": [
      "{\"script\":\"LATIN\",\"id\":\"61335e7c-32af-4b6b-9035-aa529a517c47\",\"firstName\":\"Harvey\",\"lastName\":\"Shepard\",\"score\":11.852606949356742,\"ethnicityAlt\":\"AfricanAmerican\",\"ethnicity\":\"British\",\"lifted\":false,\"countryIso2\":\"US\",\"ethnicitiesTop\":[\"British\",\"AfricanAmerican\",\"HispanoLatino\",\"Danish\",\"English\",\"Irish\",\"NativeHawaiian\",\"French\",\"Jewish\",\"TrinidadTobago\"],\"probabilityCalibrated\":0.6086482668374268,\"probabilityAltCalibrated\":0.6086482668374268}\n"
     ]
    },
    {
     "data": {
      "text/html": [
       "<div>\n",
       "<style scoped>\n",
       "    .dataframe tbody tr th:only-of-type {\n",
       "        vertical-align: middle;\n",
       "    }\n",
       "\n",
       "    .dataframe tbody tr th {\n",
       "        vertical-align: top;\n",
       "    }\n",
       "\n",
       "    .dataframe thead th {\n",
       "        text-align: right;\n",
       "    }\n",
       "</style>\n",
       "<table border=\"1\" class=\"dataframe\">\n",
       "  <thead>\n",
       "    <tr style=\"text-align: right;\">\n",
       "      <th></th>\n",
       "      <th>firstName</th>\n",
       "      <th>lastName</th>\n",
       "      <th>ethnicityAlt</th>\n",
       "      <th>ethnicity</th>\n",
       "    </tr>\n",
       "  </thead>\n",
       "  <tbody>\n",
       "    <tr>\n",
       "      <th>0</th>\n",
       "      <td>Harvey,</td>\n",
       "      <td>Shepard,</td>\n",
       "      <td>AfricanAmerican,</td>\n",
       "      <td>British,</td>\n",
       "    </tr>\n",
       "  </tbody>\n",
       "</table>\n",
       "</div>"
      ],
      "text/plain": [
       "  firstName  lastName      ethnicityAlt ethnicity\n",
       "0   Harvey,  Shepard,  AfricanAmerican,  British,"
      ]
     },
     "execution_count": 7,
     "metadata": {},
     "output_type": "execute_result"
    }
   ],
   "source": [
    "url = \"https://v2.namsor.com/NamSorAPIv2/api2/json/diaspora/US/Harvey/Shepard\"\n",
    "response = requests.request(\"GET\", url, headers=headers)\n",
    "print(response.text)\n",
    "\n",
    "#Writing JSON to a file, we need to ensure that the data type is in json format\n",
    "Harvey_Shepard = response.json()\n",
    "\n",
    "#we have opened a file named .txt in writing mode using 'w'. If the file doesn't already exist, it will be created. \n",
    "#Then, json.dump() transforms dictionary to a JSON string which will be saved in the .txt file.\n",
    "#When you run the program, the .txt file will be created.\n",
    "with open('Harvey_Shepard.txt', 'w') as json_file:\n",
    "  json.dump(Harvey_Shepard, json_file)\n",
    "\n",
    "#Importing the .txt file\n",
    "data = pd.read_csv('Harvey_Shepard.txt', sep=\" \", header=None )\n",
    "\n",
    "#create DataFrame and select the columns for First Name, Last Name, Ethnicity, Alternate Ethnicity\n",
    "Harvey_Shepard = pd.DataFrame(data, columns=[5,7,11,13])\n",
    "#Renaming column name in Pandas\n",
    "Harvey_Shepard.rename({5: 'firstName',7:'lastName', 11:'ethnicityAlt', 13:'ethnicity'}, axis=1, inplace=True)\n",
    "Harvey_Shepard.head()"
   ]
  },
  {
   "cell_type": "code",
   "execution_count": 8,
   "id": "f592445a",
   "metadata": {},
   "outputs": [
    {
     "name": "stdout",
     "output_type": "stream",
     "text": [
      "{\"script\":\"LATIN\",\"id\":\"b8d66200-cb97-484c-9c53-8c2add41c83e\",\"firstName\":\"Ulric\",\"lastName\":\"Parker\",\"score\":3.180929890857884,\"ethnicityAlt\":\"British\",\"ethnicity\":\"AfricanAmerican\",\"lifted\":false,\"countryIso2\":\"US\",\"ethnicitiesTop\":[\"AfricanAmerican\",\"British\",\"Austrian\",\"HispanoLatino\",\"Swedish\",\"NativeHawaiian\",\"Irish\",\"German\",\"Jewish\",\"French\"],\"probabilityCalibrated\":0.3178865034120917,\"probabilityAltCalibrated\":0.3899519217690637}\n"
     ]
    },
    {
     "data": {
      "text/html": [
       "<div>\n",
       "<style scoped>\n",
       "    .dataframe tbody tr th:only-of-type {\n",
       "        vertical-align: middle;\n",
       "    }\n",
       "\n",
       "    .dataframe tbody tr th {\n",
       "        vertical-align: top;\n",
       "    }\n",
       "\n",
       "    .dataframe thead th {\n",
       "        text-align: right;\n",
       "    }\n",
       "</style>\n",
       "<table border=\"1\" class=\"dataframe\">\n",
       "  <thead>\n",
       "    <tr style=\"text-align: right;\">\n",
       "      <th></th>\n",
       "      <th>firstName</th>\n",
       "      <th>lastName</th>\n",
       "      <th>ethnicityAlt</th>\n",
       "      <th>ethnicity</th>\n",
       "    </tr>\n",
       "  </thead>\n",
       "  <tbody>\n",
       "    <tr>\n",
       "      <th>0</th>\n",
       "      <td>Ulric,</td>\n",
       "      <td>Parker,</td>\n",
       "      <td>British,</td>\n",
       "      <td>AfricanAmerican,</td>\n",
       "    </tr>\n",
       "  </tbody>\n",
       "</table>\n",
       "</div>"
      ],
      "text/plain": [
       "  firstName lastName ethnicityAlt         ethnicity\n",
       "0    Ulric,  Parker,     British,  AfricanAmerican,"
      ]
     },
     "execution_count": 8,
     "metadata": {},
     "output_type": "execute_result"
    }
   ],
   "source": [
    "url = \"https://v2.namsor.com/NamSorAPIv2/api2/json/diaspora/US/Ulric/Parker\"\n",
    "response = requests.request(\"GET\", url, headers=headers)\n",
    "print(response.text)\n",
    "\n",
    "#Writing JSON to a file, we need to ensure that the data type is in json format\n",
    "Ulric_Parker = response.json()\n",
    "\n",
    "#we have opened a file named .txt in writing mode using 'w'. If the file doesn't already exist, it will be created. \n",
    "#Then, json.dump() transforms dictionary to a JSON string which will be saved in the .txt file.\n",
    "#When you run the program, the .txt file will be created.\n",
    "with open('Ulric_Parker.txt', 'w') as json_file:\n",
    "  json.dump(Ulric_Parker, json_file)\n",
    "\n",
    "#Importing the .txt file\n",
    "data = pd.read_csv('Ulric_Parker.txt', sep=\" \", header=None )\n",
    "\n",
    "#create DataFrame and select the columns for First Name, Last Name, Ethnicity, Alternate Ethnicity\n",
    "Ulric_Parker = pd.DataFrame(data, columns=[5,7,11,13])\n",
    "#Renaming column name in Pandas\n",
    "Ulric_Parker.rename({5: 'firstName',7:'lastName', 11:'ethnicityAlt', 13:'ethnicity'}, axis=1, inplace=True)\n",
    "Ulric_Parker.head()"
   ]
  },
  {
   "cell_type": "code",
   "execution_count": 9,
   "id": "27157ee5",
   "metadata": {},
   "outputs": [
    {
     "name": "stdout",
     "output_type": "stream",
     "text": [
      "{\"script\":\"LATIN\",\"id\":\"5ff3010d-d23c-4caf-9d4e-761ad7fbe6b6\",\"firstName\":\"Azzurra\",\"lastName\":\"Marotta\",\"score\":39.79777694546067,\"ethnicityAlt\":\"Jewish\",\"ethnicity\":\"Italian\",\"lifted\":false,\"countryIso2\":\"US\",\"ethnicitiesTop\":[\"Italian\",\"Jewish\",\"AfricanAmerican\",\"Palestinian\",\"French\",\"HispanoLatino\",\"NativeHawaiian\",\"Portuguese\",\"Tunisian\",\"Lebanese\"],\"probabilityCalibrated\":0.9532126587586487,\"probabilityAltCalibrated\":0.9532126587586487}\n"
     ]
    },
    {
     "data": {
      "text/html": [
       "<div>\n",
       "<style scoped>\n",
       "    .dataframe tbody tr th:only-of-type {\n",
       "        vertical-align: middle;\n",
       "    }\n",
       "\n",
       "    .dataframe tbody tr th {\n",
       "        vertical-align: top;\n",
       "    }\n",
       "\n",
       "    .dataframe thead th {\n",
       "        text-align: right;\n",
       "    }\n",
       "</style>\n",
       "<table border=\"1\" class=\"dataframe\">\n",
       "  <thead>\n",
       "    <tr style=\"text-align: right;\">\n",
       "      <th></th>\n",
       "      <th>firstName</th>\n",
       "      <th>lastName</th>\n",
       "      <th>ethnicityAlt</th>\n",
       "      <th>ethnicity</th>\n",
       "    </tr>\n",
       "  </thead>\n",
       "  <tbody>\n",
       "    <tr>\n",
       "      <th>0</th>\n",
       "      <td>Azzurra,</td>\n",
       "      <td>Marotta,</td>\n",
       "      <td>Jewish,</td>\n",
       "      <td>Italian,</td>\n",
       "    </tr>\n",
       "  </tbody>\n",
       "</table>\n",
       "</div>"
      ],
      "text/plain": [
       "  firstName  lastName ethnicityAlt ethnicity\n",
       "0  Azzurra,  Marotta,      Jewish,  Italian,"
      ]
     },
     "execution_count": 9,
     "metadata": {},
     "output_type": "execute_result"
    }
   ],
   "source": [
    "url = \"https://v2.namsor.com/NamSorAPIv2/api2/json/diaspora/US/Azzurra/Marotta\"\n",
    "response = requests.request(\"GET\", url, headers=headers)\n",
    "print(response.text)\n",
    "\n",
    "#Writing JSON to a file, we need to ensure that the data type is in json format\n",
    "Azzurra_Marotta = response.json()\n",
    "\n",
    "#we have opened a file named .txt in writing mode using 'w'. If the file doesn't already exist, it will be created. \n",
    "#Then, json.dump() transforms dictionary to a JSON string which will be saved in the .txt file.\n",
    "#When you run the program, the .txt file will be created.\n",
    "with open('Azzurra_Marotta.txt', 'w') as json_file:\n",
    "  json.dump(Azzurra_Marotta, json_file)\n",
    "\n",
    "#Importing the .txt file\n",
    "data = pd.read_csv('Azzurra_Marotta.txt', sep=\" \", header=None )\n",
    "\n",
    "#create DataFrame and select the columns for First Name, Last Name, Ethnicity, Alternate Ethnicity\n",
    "Azzurra_Marotta = pd.DataFrame(data, columns=[5,7,11,13])\n",
    "#Renaming column name in Pandas\n",
    "Azzurra_Marotta.rename({5: 'firstName',7:'lastName', 11:'ethnicityAlt', 13:'ethnicity'}, axis=1, inplace=True)\n",
    "Azzurra_Marotta.head()"
   ]
  },
  {
   "cell_type": "code",
   "execution_count": 10,
   "id": "138982b0",
   "metadata": {},
   "outputs": [
    {
     "name": "stdout",
     "output_type": "stream",
     "text": [
      "{\"script\":\"LATIN\",\"id\":\"353ee342-55b2-403b-8eb0-e292736e538a\",\"firstName\":\"Jacopo\",\"lastName\":\"Greece\",\"score\":9.500514807166436,\"ethnicityAlt\":\"HispanoLatino\",\"ethnicity\":\"British\",\"lifted\":false,\"countryIso2\":\"US\",\"ethnicitiesTop\":[\"British\",\"HispanoLatino\",\"AfricanAmerican\",\"TrinidadTobago\",\"NativeHawaiian\",\"Irish\",\"Jewish\",\"Scottish\",\"Italian\",\"Welsh\"],\"probabilityCalibrated\":0.5357351194780754,\"probabilityAltCalibrated\":0.5357351194780754}\n"
     ]
    },
    {
     "data": {
      "text/html": [
       "<div>\n",
       "<style scoped>\n",
       "    .dataframe tbody tr th:only-of-type {\n",
       "        vertical-align: middle;\n",
       "    }\n",
       "\n",
       "    .dataframe tbody tr th {\n",
       "        vertical-align: top;\n",
       "    }\n",
       "\n",
       "    .dataframe thead th {\n",
       "        text-align: right;\n",
       "    }\n",
       "</style>\n",
       "<table border=\"1\" class=\"dataframe\">\n",
       "  <thead>\n",
       "    <tr style=\"text-align: right;\">\n",
       "      <th></th>\n",
       "      <th>firstName</th>\n",
       "      <th>lastName</th>\n",
       "      <th>ethnicityAlt</th>\n",
       "      <th>ethnicity</th>\n",
       "    </tr>\n",
       "  </thead>\n",
       "  <tbody>\n",
       "    <tr>\n",
       "      <th>0</th>\n",
       "      <td>Jacopo,</td>\n",
       "      <td>Greece,</td>\n",
       "      <td>HispanoLatino,</td>\n",
       "      <td>British,</td>\n",
       "    </tr>\n",
       "  </tbody>\n",
       "</table>\n",
       "</div>"
      ],
      "text/plain": [
       "  firstName lastName    ethnicityAlt ethnicity\n",
       "0   Jacopo,  Greece,  HispanoLatino,  British,"
      ]
     },
     "execution_count": 10,
     "metadata": {},
     "output_type": "execute_result"
    }
   ],
   "source": [
    "url = \"https://v2.namsor.com/NamSorAPIv2/api2/json/diaspora/US/Jacopo/Greece\"\n",
    "response = requests.request(\"GET\", url, headers=headers)\n",
    "print(response.text)\n",
    "\n",
    "#Writing JSON to a file, we need to ensure that the data type is in json format\n",
    "Jacopo_Greece = response.json()\n",
    "\n",
    "#we have opened a file named .txt in writing mode using 'w'. If the file doesn't already exist, it will be created. \n",
    "#Then, json.dump() transforms dictionary to a JSON string which will be saved in the .txt file.\n",
    "#When you run the program, the .txt file will be created.\n",
    "with open('Jacopo_Greece.txt', 'w') as json_file:\n",
    "  json.dump(Jacopo_Greece, json_file)\n",
    "\n",
    "#Importing the .txt file\n",
    "data = pd.read_csv('Jacopo_Greece.txt', sep=\" \", header=None )\n",
    "\n",
    "#create DataFrame and select the columns for First Name, Last Name, Ethnicity, Alternate Ethnicity\n",
    "Jacopo_Greece = pd.DataFrame(data, columns=[5,7,11,13])\n",
    "#Renaming column name in Pandas\n",
    "Jacopo_Greece.rename({5: 'firstName',7:'lastName', 11:'ethnicityAlt', 13:'ethnicity'}, axis=1, inplace=True)\n",
    "Jacopo_Greece.head()"
   ]
  },
  {
   "cell_type": "code",
   "execution_count": 11,
   "id": "b58a3e4e",
   "metadata": {},
   "outputs": [
    {
     "name": "stdout",
     "output_type": "stream",
     "text": [
      "{\"script\":\"LATIN\",\"id\":\"6d717885-eb72-48f0-b0d1-a78f7663c5f2\",\"firstName\":\"Daniel\",\"lastName\":\"Evans\",\"score\":0.8476961788753272,\"ethnicityAlt\":\"AfricanAmerican\",\"ethnicity\":\"British\",\"lifted\":false,\"countryIso2\":\"US\",\"ethnicitiesTop\":[\"British\",\"AfricanAmerican\",\"HispanoLatino\",\"Irish\",\"Welsh\",\"Flemish\",\"NativeHawaiian\",\"Swedish\",\"English\",\"French\"],\"probabilityCalibrated\":0.19384094332146298,\"probabilityAltCalibrated\":0.2629554412929187}\n"
     ]
    },
    {
     "data": {
      "text/html": [
       "<div>\n",
       "<style scoped>\n",
       "    .dataframe tbody tr th:only-of-type {\n",
       "        vertical-align: middle;\n",
       "    }\n",
       "\n",
       "    .dataframe tbody tr th {\n",
       "        vertical-align: top;\n",
       "    }\n",
       "\n",
       "    .dataframe thead th {\n",
       "        text-align: right;\n",
       "    }\n",
       "</style>\n",
       "<table border=\"1\" class=\"dataframe\">\n",
       "  <thead>\n",
       "    <tr style=\"text-align: right;\">\n",
       "      <th></th>\n",
       "      <th>firstName</th>\n",
       "      <th>lastName</th>\n",
       "      <th>ethnicityAlt</th>\n",
       "      <th>ethnicity</th>\n",
       "    </tr>\n",
       "  </thead>\n",
       "  <tbody>\n",
       "    <tr>\n",
       "      <th>0</th>\n",
       "      <td>Daniel,</td>\n",
       "      <td>Evans,</td>\n",
       "      <td>AfricanAmerican,</td>\n",
       "      <td>British,</td>\n",
       "    </tr>\n",
       "  </tbody>\n",
       "</table>\n",
       "</div>"
      ],
      "text/plain": [
       "  firstName lastName      ethnicityAlt ethnicity\n",
       "0   Daniel,   Evans,  AfricanAmerican,  British,"
      ]
     },
     "execution_count": 11,
     "metadata": {},
     "output_type": "execute_result"
    }
   ],
   "source": [
    "url = \"https://v2.namsor.com/NamSorAPIv2/api2/json/diaspora/US/Daniel/Evans\"\n",
    "response = requests.request(\"GET\", url, headers=headers)\n",
    "print(response.text)\n",
    "\n",
    "#Writing JSON to a file, we need to ensure that the data type is in json format\n",
    "Daniel_Evans = response.json()\n",
    "\n",
    "#we have opened a file named .txt in writing mode using 'w'. If the file doesn't already exist, it will be created. \n",
    "#Then, json.dump() transforms dictionary to a JSON string which will be saved in the .txt file.\n",
    "#When you run the program, the .txt file will be created.\n",
    "with open('Daniel_Evans.txt', 'w') as json_file:\n",
    "  json.dump(Daniel_Evans, json_file)\n",
    "\n",
    "#Importing the .txt file\n",
    "data = pd.read_csv('Daniel_Evans.txt', sep=\" \", header=None )\n",
    "\n",
    "#create DataFrame and select the columns for First Name, Last Name, Ethnicity, Alternate Ethnicity\n",
    "Daniel_Evans = pd.DataFrame(data, columns=[5,7,11,13])\n",
    "#Renaming column name in Pandas\n",
    "Daniel_Evans.rename({5: 'firstName',7:'lastName', 11:'ethnicityAlt', 13:'ethnicity'}, axis=1, inplace=True)\n",
    "Daniel_Evans.head()"
   ]
  },
  {
   "cell_type": "code",
   "execution_count": 12,
   "id": "b1039059",
   "metadata": {},
   "outputs": [
    {
     "name": "stdout",
     "output_type": "stream",
     "text": [
      "{\"script\":\"LATIN\",\"id\":\"abb088dc-452a-402e-bc8a-d63f1c58da8b\",\"firstName\":\"Ozawa\",\"lastName\":\"Nobuo\",\"score\":43.074491907904935,\"ethnicityAlt\":\"Ivoirien\",\"ethnicity\":\"Japanese\",\"lifted\":false,\"countryIso2\":\"US\",\"ethnicitiesTop\":[\"Japanese\",\"Ivoirien\",\"Bhutanese\",\"Mozambican\",\"Congolese\",\"NativeHawaiian\",\"Mali\",\"Gambian\",\"Liberia\",\"Chad\"],\"probabilityCalibrated\":0.9532126587586487,\"probabilityAltCalibrated\":0.9532126587586487}\n"
     ]
    },
    {
     "data": {
      "text/html": [
       "<div>\n",
       "<style scoped>\n",
       "    .dataframe tbody tr th:only-of-type {\n",
       "        vertical-align: middle;\n",
       "    }\n",
       "\n",
       "    .dataframe tbody tr th {\n",
       "        vertical-align: top;\n",
       "    }\n",
       "\n",
       "    .dataframe thead th {\n",
       "        text-align: right;\n",
       "    }\n",
       "</style>\n",
       "<table border=\"1\" class=\"dataframe\">\n",
       "  <thead>\n",
       "    <tr style=\"text-align: right;\">\n",
       "      <th></th>\n",
       "      <th>firstName</th>\n",
       "      <th>lastName</th>\n",
       "      <th>ethnicityAlt</th>\n",
       "      <th>ethnicity</th>\n",
       "    </tr>\n",
       "  </thead>\n",
       "  <tbody>\n",
       "    <tr>\n",
       "      <th>0</th>\n",
       "      <td>Ozawa,</td>\n",
       "      <td>Nobuo,</td>\n",
       "      <td>Ivoirien,</td>\n",
       "      <td>Japanese,</td>\n",
       "    </tr>\n",
       "  </tbody>\n",
       "</table>\n",
       "</div>"
      ],
      "text/plain": [
       "  firstName lastName ethnicityAlt  ethnicity\n",
       "0    Ozawa,   Nobuo,    Ivoirien,  Japanese,"
      ]
     },
     "execution_count": 12,
     "metadata": {},
     "output_type": "execute_result"
    }
   ],
   "source": [
    "url = \"https://v2.namsor.com/NamSorAPIv2/api2/json/diaspora/US/Ozawa/Nobuo\"\n",
    "response = requests.request(\"GET\", url, headers=headers)\n",
    "print(response.text)\n",
    "\n",
    "#Writing JSON to a file, we need to ensure that the data type is in json format\n",
    "Ozawa_Nobuo = response.json()\n",
    "\n",
    "#we have opened a file named .txt in writing mode using 'w'. If the file doesn't already exist, it will be created. \n",
    "#Then, json.dump() transforms dictionary to a JSON string which will be saved in the .txt file.\n",
    "#When you run the program, the .txt file will be created.\n",
    "with open('Ozawa_Nobuo.txt', 'w') as json_file:\n",
    "  json.dump(Ozawa_Nobuo, json_file)\n",
    "\n",
    "#Importing the .txt file\n",
    "data = pd.read_csv('Ozawa_Nobuo.txt', sep=\" \", header=None )\n",
    "\n",
    "#create DataFrame and select the columns for First Name, Last Name, Ethnicity, Alternate Ethnicity\n",
    "Ozawa_Nobuo = pd.DataFrame(data, columns=[5,7,11,13])\n",
    "#Renaming column name in Pandas\n",
    "Ozawa_Nobuo.rename({5: 'firstName',7:'lastName', 11:'ethnicityAlt', 13:'ethnicity'}, axis=1, inplace=True)\n",
    "Ozawa_Nobuo.head()"
   ]
  },
  {
   "cell_type": "code",
   "execution_count": 13,
   "id": "472e91fe",
   "metadata": {},
   "outputs": [
    {
     "name": "stdout",
     "output_type": "stream",
     "text": [
      "{\"script\":\"LATIN\",\"id\":\"6eaa0fa6-74d2-41c6-a845-fab3d2e0a7b6\",\"firstName\":\"Akiyama\",\"lastName\":\"Iwao\",\"score\":41.44693797796593,\"ethnicityAlt\":\"Ivoirien\",\"ethnicity\":\"Japanese\",\"lifted\":false,\"countryIso2\":\"US\",\"ethnicitiesTop\":[\"Japanese\",\"Ivoirien\",\"NativeHawaiian\",\"Niger\",\"Nigerian\",\"Congolese\",\"Comoros\",\"Togolese\",\"Gabon\",\"Ghanaian\"],\"probabilityCalibrated\":0.9532126587586487,\"probabilityAltCalibrated\":0.9532126587586487}\n"
     ]
    },
    {
     "data": {
      "text/html": [
       "<div>\n",
       "<style scoped>\n",
       "    .dataframe tbody tr th:only-of-type {\n",
       "        vertical-align: middle;\n",
       "    }\n",
       "\n",
       "    .dataframe tbody tr th {\n",
       "        vertical-align: top;\n",
       "    }\n",
       "\n",
       "    .dataframe thead th {\n",
       "        text-align: right;\n",
       "    }\n",
       "</style>\n",
       "<table border=\"1\" class=\"dataframe\">\n",
       "  <thead>\n",
       "    <tr style=\"text-align: right;\">\n",
       "      <th></th>\n",
       "      <th>firstName</th>\n",
       "      <th>lastName</th>\n",
       "      <th>ethnicityAlt</th>\n",
       "      <th>ethnicity</th>\n",
       "    </tr>\n",
       "  </thead>\n",
       "  <tbody>\n",
       "    <tr>\n",
       "      <th>0</th>\n",
       "      <td>Akiyama,</td>\n",
       "      <td>Iwao,</td>\n",
       "      <td>Ivoirien,</td>\n",
       "      <td>Japanese,</td>\n",
       "    </tr>\n",
       "  </tbody>\n",
       "</table>\n",
       "</div>"
      ],
      "text/plain": [
       "  firstName lastName ethnicityAlt  ethnicity\n",
       "0  Akiyama,    Iwao,    Ivoirien,  Japanese,"
      ]
     },
     "execution_count": 13,
     "metadata": {},
     "output_type": "execute_result"
    }
   ],
   "source": [
    "url = \"https://v2.namsor.com/NamSorAPIv2/api2/json/diaspora/US/Akiyama/Iwao\"\n",
    "response = requests.request(\"GET\", url, headers=headers)\n",
    "print(response.text)\n",
    "\n",
    "#Writing JSON to a file, we need to ensure that the data type is in json format\n",
    "Akiyama_Iwao = response.json()\n",
    "\n",
    "#we have opened a file named .txt in writing mode using 'w'. If the file doesn't already exist, it will be created. \n",
    "#Then, json.dump() transforms dictionary to a JSON string which will be saved in the .txt file.\n",
    "#When you run the program, the .txt file will be created.\n",
    "with open('Akiyama_Iwao.txt', 'w') as json_file:\n",
    "  json.dump(Akiyama_Iwao, json_file)\n",
    "\n",
    "#Importing the .txt file\n",
    "data = pd.read_csv('Akiyama_Iwao.txt', sep=\" \", header=None )\n",
    "\n",
    "#create DataFrame and select the columns for First Name, Last Name, Ethnicity, Alternate Ethnicity\n",
    "Akiyama_Iwao = pd.DataFrame(data, columns=[5,7,11,13])\n",
    "#Renaming column name in Pandas\n",
    "Akiyama_Iwao.rename({5: 'firstName',7:'lastName', 11:'ethnicityAlt', 13:'ethnicity'}, axis=1, inplace=True)\n",
    "Akiyama_Iwao.head()"
   ]
  },
  {
   "cell_type": "code",
   "execution_count": 14,
   "id": "d0107ff3",
   "metadata": {},
   "outputs": [
    {
     "name": "stdout",
     "output_type": "stream",
     "text": [
      "{\"script\":\"LATIN\",\"id\":\"418b2c0a-ca27-4d4b-b5f1-f0ec68e8411f\",\"firstName\":\"Mohammed\",\"lastName\":\"Abara\",\"score\":3.083440115470961,\"ethnicityAlt\":\"Algerian\",\"ethnicity\":\"Moroccan\",\"lifted\":false,\"countryIso2\":\"US\",\"ethnicitiesTop\":[\"Moroccan\",\"Algerian\",\"Egyptian\",\"Syrian\",\"Tunisian\",\"Sudanese\",\"Palestinian\",\"Iraqi\",\"Pakistanese\",\"Lebanese\"],\"probabilityCalibrated\":0.3128770938551904,\"probabilityAltCalibrated\":0.3128770938551904}\n"
     ]
    },
    {
     "data": {
      "text/html": [
       "<div>\n",
       "<style scoped>\n",
       "    .dataframe tbody tr th:only-of-type {\n",
       "        vertical-align: middle;\n",
       "    }\n",
       "\n",
       "    .dataframe tbody tr th {\n",
       "        vertical-align: top;\n",
       "    }\n",
       "\n",
       "    .dataframe thead th {\n",
       "        text-align: right;\n",
       "    }\n",
       "</style>\n",
       "<table border=\"1\" class=\"dataframe\">\n",
       "  <thead>\n",
       "    <tr style=\"text-align: right;\">\n",
       "      <th></th>\n",
       "      <th>firstName</th>\n",
       "      <th>lastName</th>\n",
       "      <th>ethnicityAlt</th>\n",
       "      <th>ethnicity</th>\n",
       "    </tr>\n",
       "  </thead>\n",
       "  <tbody>\n",
       "    <tr>\n",
       "      <th>0</th>\n",
       "      <td>Mohammed,</td>\n",
       "      <td>Abara,</td>\n",
       "      <td>Algerian,</td>\n",
       "      <td>Moroccan,</td>\n",
       "    </tr>\n",
       "  </tbody>\n",
       "</table>\n",
       "</div>"
      ],
      "text/plain": [
       "   firstName lastName ethnicityAlt  ethnicity\n",
       "0  Mohammed,   Abara,    Algerian,  Moroccan,"
      ]
     },
     "execution_count": 14,
     "metadata": {},
     "output_type": "execute_result"
    }
   ],
   "source": [
    "url = \"https://v2.namsor.com/NamSorAPIv2/api2/json/diaspora/US/Mohammed/Abara\"\n",
    "response = requests.request(\"GET\", url, headers=headers)\n",
    "print(response.text)\n",
    "\n",
    "#Writing JSON to a file, we need to ensure that the data type is in json format\n",
    "Mohammed_Abara = response.json()\n",
    "\n",
    "#we have opened a file named .txt in writing mode using 'w'. If the file doesn't already exist, it will be created. \n",
    "#Then, json.dump() transforms dictionary to a JSON string which will be saved in the .txt file.\n",
    "#When you run the program, the .txt file will be created.\n",
    "with open('Mohammed_Abara.txt', 'w') as json_file:\n",
    "  json.dump(Mohammed_Abara, json_file)\n",
    "\n",
    "#Importing the .txt file\n",
    "data = pd.read_csv('Mohammed_Abara.txt', sep=\" \", header=None )\n",
    "\n",
    "#create DataFrame and select the columns for First Name, Last Name, Ethnicity, Alternate Ethnicity\n",
    "Mohammed_Abara = pd.DataFrame(data, columns=[5,7,11,13])\n",
    "#Renaming column name in Pandas\n",
    "Mohammed_Abara.rename({5: 'firstName',7:'lastName', 11:'ethnicityAlt', 13:'ethnicity'}, axis=1, inplace=True)\n",
    "Mohammed_Abara.head()"
   ]
  },
  {
   "cell_type": "code",
   "execution_count": 15,
   "id": "f6389f01",
   "metadata": {},
   "outputs": [
    {
     "name": "stdout",
     "output_type": "stream",
     "text": [
      "{\"script\":\"LATIN\",\"id\":\"b8f578cc-3d15-4f7a-af64-2e693399d589\",\"firstName\":\"Gillian\",\"lastName\":\"Madonsela\",\"score\":6.754217149984829,\"ethnicityAlt\":\"Italian\",\"ethnicity\":\"South African\",\"lifted\":false,\"countryIso2\":\"US\",\"ethnicitiesTop\":[\"South African\",\"Italian\",\"Zimbabwean\",\"Romanian\",\"Irish\",\"British\",\"French\",\"HispanoLatino\",\"Jewish\",\"Zambian\"],\"probabilityCalibrated\":0.46119430806251627,\"probabilityAltCalibrated\":0.46119430806251627}\n"
     ]
    },
    {
     "data": {
      "text/html": [
       "<div>\n",
       "<style scoped>\n",
       "    .dataframe tbody tr th:only-of-type {\n",
       "        vertical-align: middle;\n",
       "    }\n",
       "\n",
       "    .dataframe tbody tr th {\n",
       "        vertical-align: top;\n",
       "    }\n",
       "\n",
       "    .dataframe thead th {\n",
       "        text-align: right;\n",
       "    }\n",
       "</style>\n",
       "<table border=\"1\" class=\"dataframe\">\n",
       "  <thead>\n",
       "    <tr style=\"text-align: right;\">\n",
       "      <th></th>\n",
       "      <th>firstName</th>\n",
       "      <th>lastName</th>\n",
       "      <th>ethnicityAlt</th>\n",
       "      <th>ethnicity</th>\n",
       "    </tr>\n",
       "  </thead>\n",
       "  <tbody>\n",
       "    <tr>\n",
       "      <th>0</th>\n",
       "      <td>Gillian,</td>\n",
       "      <td>Madonsela,</td>\n",
       "      <td>Italian,</td>\n",
       "      <td>South African,</td>\n",
       "    </tr>\n",
       "  </tbody>\n",
       "</table>\n",
       "</div>"
      ],
      "text/plain": [
       "  firstName    lastName ethnicityAlt       ethnicity\n",
       "0  Gillian,  Madonsela,     Italian,  South African,"
      ]
     },
     "execution_count": 15,
     "metadata": {},
     "output_type": "execute_result"
    }
   ],
   "source": [
    "url = \"https://v2.namsor.com/NamSorAPIv2/api2/json/diaspora/US/Gillian/Madonsela\"\n",
    "response = requests.request(\"GET\", url, headers=headers)\n",
    "print(response.text)\n",
    "\n",
    "#Writing JSON to a file, we need to ensure that the data type is in json format\n",
    "Gillian_Madonsela = response.json()\n",
    "\n",
    "#we have opened a file named .txt in writing mode using 'w'. If the file doesn't already exist, it will be created. \n",
    "#Then, json.dump() transforms dictionary to a JSON string which will be saved in the .txt file.\n",
    "#When you run the program, the .txt file will be created.\n",
    "with open('Gillian_Madonsela.txt', 'w') as json_file:\n",
    "  json.dump(Gillian_Madonsela, json_file)\n",
    "\n",
    "#Importing the .txt file\n",
    "data = pd.read_csv('Gillian_Madonsela.txt', sep=\" \", header=None )\n",
    "\n",
    "#create DataFrame and select the columns for First Name, Last Name, Ethnicity, Alternate Ethnicity\n",
    "Gillian_Madonsela = pd.DataFrame(data, columns=[5,7,11,13])\n",
    "#Renaming column name in Pandas\n",
    "Gillian_Madonsela.rename({5: 'firstName',7:'lastName', 11:'ethnicityAlt', 13:'ethnicity'}, axis=1, inplace=True)\n",
    "Gillian_Madonsela.head()"
   ]
  },
  {
   "cell_type": "code",
   "execution_count": 16,
   "id": "1e348712",
   "metadata": {},
   "outputs": [
    {
     "name": "stdout",
     "output_type": "stream",
     "text": [
      "{\"script\":\"LATIN\",\"id\":\"0515dd37-4de1-46ff-97df-3554285d1c81\",\"firstName\":\"Katherine\",\"lastName\":\"Johnson\",\"score\":3.792530035484487,\"ethnicityAlt\":\"HispanoLatino\",\"ethnicity\":\"AfricanAmerican\",\"lifted\":false,\"countryIso2\":\"US\",\"ethnicitiesTop\":[\"AfricanAmerican\",\"HispanoLatino\",\"Swedish\",\"British\",\"TrinidadTobago\",\"Irish\",\"Norwegian\",\"Jewish\",\"NativeHawaiian\",\"Liberia\"],\"probabilityCalibrated\":0.3407774360213786,\"probabilityAltCalibrated\":0.34350725488035677}\n"
     ]
    },
    {
     "data": {
      "text/html": [
       "<div>\n",
       "<style scoped>\n",
       "    .dataframe tbody tr th:only-of-type {\n",
       "        vertical-align: middle;\n",
       "    }\n",
       "\n",
       "    .dataframe tbody tr th {\n",
       "        vertical-align: top;\n",
       "    }\n",
       "\n",
       "    .dataframe thead th {\n",
       "        text-align: right;\n",
       "    }\n",
       "</style>\n",
       "<table border=\"1\" class=\"dataframe\">\n",
       "  <thead>\n",
       "    <tr style=\"text-align: right;\">\n",
       "      <th></th>\n",
       "      <th>firstName</th>\n",
       "      <th>lastName</th>\n",
       "      <th>ethnicityAlt</th>\n",
       "      <th>ethnicity</th>\n",
       "    </tr>\n",
       "  </thead>\n",
       "  <tbody>\n",
       "    <tr>\n",
       "      <th>0</th>\n",
       "      <td>Katherine,</td>\n",
       "      <td>Johnson,</td>\n",
       "      <td>HispanoLatino,</td>\n",
       "      <td>AfricanAmerican,</td>\n",
       "    </tr>\n",
       "  </tbody>\n",
       "</table>\n",
       "</div>"
      ],
      "text/plain": [
       "    firstName  lastName    ethnicityAlt         ethnicity\n",
       "0  Katherine,  Johnson,  HispanoLatino,  AfricanAmerican,"
      ]
     },
     "execution_count": 16,
     "metadata": {},
     "output_type": "execute_result"
    }
   ],
   "source": [
    "url = \"https://v2.namsor.com/NamSorAPIv2/api2/json/diaspora/US/Katherine/Johnson\"\n",
    "response = requests.request(\"GET\", url, headers=headers)\n",
    "print(response.text)\n",
    "\n",
    "#Writing JSON to a file, we need to ensure that the data type is in json format\n",
    "Katherine_Johnson = response.json()\n",
    "\n",
    "#we have opened a file named .txt in writing mode using 'w'. If the file doesn't already exist, it will be created. \n",
    "#Then, json.dump() transforms dictionary to a JSON string which will be saved in the .txt file.\n",
    "#When you run the program, the .txt file will be created.\n",
    "with open('Katherine_Johnson.txt', 'w') as json_file:\n",
    "  json.dump(Katherine_Johnson, json_file)\n",
    "\n",
    "#Importing the .txt file\n",
    "data = pd.read_csv('Katherine_Johnson.txt', sep=\" \", header=None )\n",
    "\n",
    "#create DataFrame and select the columns for First Name, Last Name, Ethnicity, Alternate Ethnicity\n",
    "Katherine_Johnson = pd.DataFrame(data, columns=[5,7,11,13])\n",
    "#Renaming column name in Pandas\n",
    "Katherine_Johnson.rename({5: 'firstName',7:'lastName', 11:'ethnicityAlt', 13:'ethnicity'}, axis=1, inplace=True)\n",
    "Katherine_Johnson.head()"
   ]
  },
  {
   "cell_type": "code",
   "execution_count": 17,
   "id": "08b08dce",
   "metadata": {},
   "outputs": [
    {
     "name": "stdout",
     "output_type": "stream",
     "text": [
      "{\"script\":\"LATIN\",\"id\":\"d25077d7-6431-4332-99c5-0da1bb7f86e7\",\"firstName\":\"Marina\",\"lastName\":\"Cruz\",\"score\":9.180805141345669,\"ethnicityAlt\":\"Hispanic\",\"ethnicity\":\"Portuguese\",\"lifted\":false,\"countryIso2\":\"US\",\"ethnicitiesTop\":[\"Portuguese\",\"Hispanic\",\"HispanoLatino\",\"NativeHawaiian\",\"AfricanAmerican\",\"Jewish\",\"Moldova\",\"Italian\",\"French\",\"Catalan\"],\"probabilityCalibrated\":0.5316129024159533,\"probabilityAltCalibrated\":0.7798308110645956}\n"
     ]
    },
    {
     "data": {
      "text/html": [
       "<div>\n",
       "<style scoped>\n",
       "    .dataframe tbody tr th:only-of-type {\n",
       "        vertical-align: middle;\n",
       "    }\n",
       "\n",
       "    .dataframe tbody tr th {\n",
       "        vertical-align: top;\n",
       "    }\n",
       "\n",
       "    .dataframe thead th {\n",
       "        text-align: right;\n",
       "    }\n",
       "</style>\n",
       "<table border=\"1\" class=\"dataframe\">\n",
       "  <thead>\n",
       "    <tr style=\"text-align: right;\">\n",
       "      <th></th>\n",
       "      <th>firstName</th>\n",
       "      <th>lastName</th>\n",
       "      <th>ethnicityAlt</th>\n",
       "      <th>ethnicity</th>\n",
       "    </tr>\n",
       "  </thead>\n",
       "  <tbody>\n",
       "    <tr>\n",
       "      <th>0</th>\n",
       "      <td>Marina,</td>\n",
       "      <td>Cruz,</td>\n",
       "      <td>Hispanic,</td>\n",
       "      <td>Portuguese,</td>\n",
       "    </tr>\n",
       "  </tbody>\n",
       "</table>\n",
       "</div>"
      ],
      "text/plain": [
       "  firstName lastName ethnicityAlt    ethnicity\n",
       "0   Marina,    Cruz,    Hispanic,  Portuguese,"
      ]
     },
     "execution_count": 17,
     "metadata": {},
     "output_type": "execute_result"
    }
   ],
   "source": [
    "url = \"https://v2.namsor.com/NamSorAPIv2/api2/json/diaspora/US/Marina/Cruz\"\n",
    "response = requests.request(\"GET\", url, headers=headers)\n",
    "print(response.text)\n",
    "\n",
    "#Writing JSON to a file, we need to ensure that the data type is in json format\n",
    "Marina_Cruz = response.json()\n",
    "\n",
    "#we have opened a file named .txt in writing mode using 'w'. If the file doesn't already exist, it will be created. \n",
    "#Then, json.dump() transforms dictionary to a JSON string which will be saved in the .txt file.\n",
    "#When you run the program, the .txt file will be created.\n",
    "with open('Marina_Cruz.txt', 'w') as json_file:\n",
    "  json.dump(Marina_Cruz, json_file)\n",
    "\n",
    "#Importing the .txt file\n",
    "data = pd.read_csv('Marina_Cruz.txt', sep=\" \", header=None )\n",
    "\n",
    "#create DataFrame and select the columns for First Name, Last Name, Ethnicity, Alternate Ethnicity\n",
    "Marina_Cruz = pd.DataFrame(data, columns=[5,7,11,13])\n",
    "#Renaming column name in Pandas\n",
    "Marina_Cruz.rename({5: 'firstName',7:'lastName', 11:'ethnicityAlt', 13:'ethnicity'}, axis=1, inplace=True)\n",
    "Marina_Cruz.head()"
   ]
  },
  {
   "cell_type": "code",
   "execution_count": 18,
   "id": "48b1c814",
   "metadata": {},
   "outputs": [
    {
     "name": "stdout",
     "output_type": "stream",
     "text": [
      "{\"script\":\"LATIN\",\"id\":\"32afae97-9f0d-42e3-b8bf-d27ff9eba6bb\",\"firstName\":\"Leelawati\",\"lastName\":\"Kar\",\"score\":12.81507298943305,\"ethnicityAlt\":\"Malays\",\"ethnicity\":\"Indian\",\"lifted\":false,\"countryIso2\":\"US\",\"ethnicitiesTop\":[\"Indian\",\"Malays\",\"Nepalese\",\"Bangladeshi\",\"Indonesian\",\"TrinidadTobago\",\"Pakistanese\",\"NativeHawaiian\",\"Estonian\",\"Turkish\"],\"probabilityCalibrated\":0.6375695758605974,\"probabilityAltCalibrated\":0.6375695758605974}\n"
     ]
    },
    {
     "data": {
      "text/html": [
       "<div>\n",
       "<style scoped>\n",
       "    .dataframe tbody tr th:only-of-type {\n",
       "        vertical-align: middle;\n",
       "    }\n",
       "\n",
       "    .dataframe tbody tr th {\n",
       "        vertical-align: top;\n",
       "    }\n",
       "\n",
       "    .dataframe thead th {\n",
       "        text-align: right;\n",
       "    }\n",
       "</style>\n",
       "<table border=\"1\" class=\"dataframe\">\n",
       "  <thead>\n",
       "    <tr style=\"text-align: right;\">\n",
       "      <th></th>\n",
       "      <th>firstName</th>\n",
       "      <th>lastName</th>\n",
       "      <th>ethnicityAlt</th>\n",
       "      <th>ethnicity</th>\n",
       "    </tr>\n",
       "  </thead>\n",
       "  <tbody>\n",
       "    <tr>\n",
       "      <th>0</th>\n",
       "      <td>Leelawati,</td>\n",
       "      <td>Kar,</td>\n",
       "      <td>Malays,</td>\n",
       "      <td>Indian,</td>\n",
       "    </tr>\n",
       "  </tbody>\n",
       "</table>\n",
       "</div>"
      ],
      "text/plain": [
       "    firstName lastName ethnicityAlt ethnicity\n",
       "0  Leelawati,     Kar,      Malays,   Indian,"
      ]
     },
     "execution_count": 18,
     "metadata": {},
     "output_type": "execute_result"
    }
   ],
   "source": [
    "url = \"https://v2.namsor.com/NamSorAPIv2/api2/json/diaspora/US/Leelawati/Kar\"\n",
    "response = requests.request(\"GET\", url, headers=headers)\n",
    "print(response.text)\n",
    "\n",
    "#Writing JSON to a file, we need to ensure that the data type is in json format\n",
    "Leelawati_Kar = response.json()\n",
    "\n",
    "#we have opened a file named .txt in writing mode using 'w'. If the file doesn't already exist, it will be created. \n",
    "#Then, json.dump() transforms dictionary to a JSON string which will be saved in the .txt file.\n",
    "#When you run the program, the .txt file will be created.\n",
    "with open('Leelawati_Kar.txt', 'w') as json_file:\n",
    "  json.dump(Leelawati_Kar, json_file)\n",
    "\n",
    "#Importing the .txt file\n",
    "data = pd.read_csv('Leelawati_Kar.txt', sep=\" \", header=None )\n",
    "\n",
    "#create DataFrame and select the columns for First Name, Last Name, Ethnicity, Alternate Ethnicity\n",
    "Leelawati_Kar = pd.DataFrame(data, columns=[5,7,11,13])\n",
    "#Renaming column name in Pandas\n",
    "Leelawati_Kar.rename({5: 'firstName',7:'lastName', 11:'ethnicityAlt', 13:'ethnicity'}, axis=1, inplace=True)\n",
    "Leelawati_Kar.head()"
   ]
  },
  {
   "cell_type": "code",
   "execution_count": 19,
   "id": "e79cf502",
   "metadata": {},
   "outputs": [
    {
     "name": "stdout",
     "output_type": "stream",
     "text": [
      "{\"script\":\"LATIN\",\"id\":\"6c767946-999c-44bb-b184-98ed0fe470fe\",\"firstName\":\"Nitika\",\"lastName\":\"Sethi\",\"score\":44.47037703870913,\"ethnicityAlt\":\"Nepalese\",\"ethnicity\":\"Indian\",\"lifted\":false,\"countryIso2\":\"US\",\"ethnicitiesTop\":[\"Indian\",\"Nepalese\",\"Sri Lankan\",\"Bangladeshi\",\"Indonesian\",\"Botswana\",\"Thai\",\"Lesotho\",\"Japanese\",\"Cambodian\"],\"probabilityCalibrated\":0.9532126587586487,\"probabilityAltCalibrated\":0.9532126587586487}\n"
     ]
    },
    {
     "data": {
      "text/html": [
       "<div>\n",
       "<style scoped>\n",
       "    .dataframe tbody tr th:only-of-type {\n",
       "        vertical-align: middle;\n",
       "    }\n",
       "\n",
       "    .dataframe tbody tr th {\n",
       "        vertical-align: top;\n",
       "    }\n",
       "\n",
       "    .dataframe thead th {\n",
       "        text-align: right;\n",
       "    }\n",
       "</style>\n",
       "<table border=\"1\" class=\"dataframe\">\n",
       "  <thead>\n",
       "    <tr style=\"text-align: right;\">\n",
       "      <th></th>\n",
       "      <th>firstName</th>\n",
       "      <th>lastName</th>\n",
       "      <th>ethnicityAlt</th>\n",
       "      <th>ethnicity</th>\n",
       "    </tr>\n",
       "  </thead>\n",
       "  <tbody>\n",
       "    <tr>\n",
       "      <th>0</th>\n",
       "      <td>Nitika,</td>\n",
       "      <td>Sethi,</td>\n",
       "      <td>Nepalese,</td>\n",
       "      <td>Indian,</td>\n",
       "    </tr>\n",
       "  </tbody>\n",
       "</table>\n",
       "</div>"
      ],
      "text/plain": [
       "  firstName lastName ethnicityAlt ethnicity\n",
       "0   Nitika,   Sethi,    Nepalese,   Indian,"
      ]
     },
     "execution_count": 19,
     "metadata": {},
     "output_type": "execute_result"
    }
   ],
   "source": [
    "url = \"https://v2.namsor.com/NamSorAPIv2/api2/json/diaspora/US/Nitika/Sethi\"\n",
    "response = requests.request(\"GET\", url, headers=headers)\n",
    "print(response.text)\n",
    "\n",
    "#Writing JSON to a file, we need to ensure that the data type is in json format\n",
    "Nitika_Sethi = response.json()\n",
    "\n",
    "#we have opened a file named .txt in writing mode using 'w'. If the file doesn't already exist, it will be created. \n",
    "#Then, json.dump() transforms dictionary to a JSON string which will be saved in the .txt file.\n",
    "#When you run the program, the .txt file will be created.\n",
    "with open('Nitika_Sethi.txt', 'w') as json_file:\n",
    "  json.dump(Nitika_Sethi, json_file)\n",
    "\n",
    "#Importing the .txt file\n",
    "data = pd.read_csv('Nitika_Sethi.txt', sep=\" \", header=None )\n",
    "\n",
    "#create DataFrame and select the columns for First Name, Last Name, Ethnicity, Alternate Ethnicity\n",
    "Nitika_Sethi = pd.DataFrame(data, columns=[5,7,11,13])\n",
    "#Renaming column name in Pandas\n",
    "Nitika_Sethi.rename({5: 'firstName',7:'lastName', 11:'ethnicityAlt', 13:'ethnicity'}, axis=1, inplace=True)\n",
    "Nitika_Sethi.head()"
   ]
  },
  {
   "cell_type": "code",
   "execution_count": 20,
   "id": "f0b32b4b",
   "metadata": {},
   "outputs": [
    {
     "name": "stdout",
     "output_type": "stream",
     "text": [
      "{\"script\":\"LATIN\",\"id\":\"3ab36dc1-1c32-4d47-9028-67911e39be3c\",\"firstName\":\"Prabhat\",\"lastName\":\"Baral\",\"score\":19.29170646032791,\"ethnicityAlt\":\"Indian\",\"ethnicity\":\"Nepalese\",\"lifted\":false,\"countryIso2\":\"US\",\"ethnicitiesTop\":[\"Nepalese\",\"Indian\",\"Turkish\",\"Mauritius\",\"Pakistanese\",\"Jewish\",\"TrinidadTobago\",\"NativeHawaiian\",\"Chad\",\"Thai\"],\"probabilityCalibrated\":0.7713572343735221,\"probabilityAltCalibrated\":0.8928349099370544}\n"
     ]
    },
    {
     "data": {
      "text/html": [
       "<div>\n",
       "<style scoped>\n",
       "    .dataframe tbody tr th:only-of-type {\n",
       "        vertical-align: middle;\n",
       "    }\n",
       "\n",
       "    .dataframe tbody tr th {\n",
       "        vertical-align: top;\n",
       "    }\n",
       "\n",
       "    .dataframe thead th {\n",
       "        text-align: right;\n",
       "    }\n",
       "</style>\n",
       "<table border=\"1\" class=\"dataframe\">\n",
       "  <thead>\n",
       "    <tr style=\"text-align: right;\">\n",
       "      <th></th>\n",
       "      <th>firstName</th>\n",
       "      <th>lastName</th>\n",
       "      <th>ethnicityAlt</th>\n",
       "      <th>ethnicity</th>\n",
       "    </tr>\n",
       "  </thead>\n",
       "  <tbody>\n",
       "    <tr>\n",
       "      <th>0</th>\n",
       "      <td>Prabhat,</td>\n",
       "      <td>Baral,</td>\n",
       "      <td>Indian,</td>\n",
       "      <td>Nepalese,</td>\n",
       "    </tr>\n",
       "  </tbody>\n",
       "</table>\n",
       "</div>"
      ],
      "text/plain": [
       "  firstName lastName ethnicityAlt  ethnicity\n",
       "0  Prabhat,   Baral,      Indian,  Nepalese,"
      ]
     },
     "execution_count": 20,
     "metadata": {},
     "output_type": "execute_result"
    }
   ],
   "source": [
    "url = \"https://v2.namsor.com/NamSorAPIv2/api2/json/diaspora/US/Prabhat/Baral\"\n",
    "response = requests.request(\"GET\", url, headers=headers)\n",
    "print(response.text)\n",
    "\n",
    "#Writing JSON to a file, we need to ensure that the data type is in json format\n",
    "Prabhat_Baral = response.json()\n",
    "\n",
    "#we have opened a file named .txt in writing mode using 'w'. If the file doesn't already exist, it will be created. \n",
    "#Then, json.dump() transforms dictionary to a JSON string which will be saved in the .txt file.\n",
    "#When you run the program, the .txt file will be created.\n",
    "with open('Prabhat_Baral.txt', 'w') as json_file:\n",
    "  json.dump(Prabhat_Baral, json_file)\n",
    "\n",
    "#Importing the .txt file\n",
    "data = pd.read_csv('Prabhat_Baral.txt', sep=\" \", header=None )\n",
    "\n",
    "#create DataFrame and select the columns for First Name, Last Name, Ethnicity, Alternate Ethnicity\n",
    "Prabhat_Baral = pd.DataFrame(data, columns=[5,7,11,13])\n",
    "#Renaming column name in Pandas\n",
    "Prabhat_Baral.rename({5: 'firstName',7:'lastName', 11:'ethnicityAlt', 13:'ethnicity'}, axis=1, inplace=True)\n",
    "Prabhat_Baral.head()"
   ]
  },
  {
   "cell_type": "code",
   "execution_count": 21,
   "id": "852c79f3",
   "metadata": {},
   "outputs": [
    {
     "name": "stdout",
     "output_type": "stream",
     "text": [
      "{\"script\":\"LATIN\",\"id\":\"81c7d9b3-89f4-4dc1-b81a-84c29e566a44\",\"firstName\":\"Vivek\",\"lastName\":\"Jadoo\",\"score\":17.47093633182506,\"ethnicityAlt\":\"Indian\",\"ethnicity\":\"Mauritius\",\"lifted\":false,\"countryIso2\":\"US\",\"ethnicitiesTop\":[\"Mauritius\",\"Indian\",\"TrinidadTobago\",\"Surinamese\",\"Pakistanese\",\"Turkmen\",\"HispanoLatino\",\"Ghanaian\",\"Centrafrican\",\"Tajik\"],\"probabilityCalibrated\":0.7359095114972974,\"probabilityAltCalibrated\":0.859350445259298}\n"
     ]
    },
    {
     "data": {
      "text/html": [
       "<div>\n",
       "<style scoped>\n",
       "    .dataframe tbody tr th:only-of-type {\n",
       "        vertical-align: middle;\n",
       "    }\n",
       "\n",
       "    .dataframe tbody tr th {\n",
       "        vertical-align: top;\n",
       "    }\n",
       "\n",
       "    .dataframe thead th {\n",
       "        text-align: right;\n",
       "    }\n",
       "</style>\n",
       "<table border=\"1\" class=\"dataframe\">\n",
       "  <thead>\n",
       "    <tr style=\"text-align: right;\">\n",
       "      <th></th>\n",
       "      <th>firstName</th>\n",
       "      <th>lastName</th>\n",
       "      <th>ethnicityAlt</th>\n",
       "      <th>ethnicity</th>\n",
       "    </tr>\n",
       "  </thead>\n",
       "  <tbody>\n",
       "    <tr>\n",
       "      <th>0</th>\n",
       "      <td>Vivek,</td>\n",
       "      <td>Jadoo,</td>\n",
       "      <td>Indian,</td>\n",
       "      <td>Mauritius,</td>\n",
       "    </tr>\n",
       "  </tbody>\n",
       "</table>\n",
       "</div>"
      ],
      "text/plain": [
       "  firstName lastName ethnicityAlt   ethnicity\n",
       "0    Vivek,   Jadoo,      Indian,  Mauritius,"
      ]
     },
     "execution_count": 21,
     "metadata": {},
     "output_type": "execute_result"
    }
   ],
   "source": [
    "url = \"https://v2.namsor.com/NamSorAPIv2/api2/json/diaspora/US/Vivek/Jadoo\"\n",
    "response = requests.request(\"GET\", url, headers=headers)\n",
    "print(response.text)\n",
    "\n",
    "#Writing JSON to a file, we need to ensure that the data type is in json format\n",
    "Vivek_Jadoo = response.json()\n",
    "\n",
    "#we have opened a file named .txt in writing mode using 'w'. If the file doesn't already exist, it will be created. \n",
    "#Then, json.dump() transforms dictionary to a JSON string which will be saved in the .txt file.\n",
    "#When you run the program, the .txt file will be created.\n",
    "with open('Vivek_Jadoo.txt', 'w') as json_file:\n",
    "  json.dump(Vivek_Jadoo, json_file)\n",
    "\n",
    "#Importing the .txt file\n",
    "data = pd.read_csv('Vivek_Jadoo.txt', sep=\" \", header=None )\n",
    "\n",
    "#create DataFrame and select the columns for First Name, Last Name, Ethnicity, Alternate Ethnicity\n",
    "Vivek_Jadoo = pd.DataFrame(data, columns=[5,7,11,13])\n",
    "#Renaming column name in Pandas\n",
    "Vivek_Jadoo.rename({5: 'firstName',7:'lastName', 11:'ethnicityAlt', 13:'ethnicity'}, axis=1, inplace=True)\n",
    "Vivek_Jadoo.head()"
   ]
  },
  {
   "cell_type": "code",
   "execution_count": 22,
   "id": "48753110",
   "metadata": {},
   "outputs": [
    {
     "name": "stdout",
     "output_type": "stream",
     "text": [
      "{\"script\":\"LATIN\",\"id\":\"611386bb-dc14-49a0-ba7f-0b2ffdfe9619\",\"firstName\":\"Vinod\",\"lastName\":\"Babu\",\"score\":33.86391740062347,\"ethnicityAlt\":\"Nepalese\",\"ethnicity\":\"Indian\",\"lifted\":false,\"countryIso2\":\"US\",\"ethnicitiesTop\":[\"Indian\",\"Nepalese\",\"Mauritius\",\"Bangladeshi\",\"Pakistanese\",\"TrinidadTobago\",\"Sri Lankan\",\"Malays\",\"Surinamese\",\"Palestinian\"],\"probabilityCalibrated\":0.93451727033965,\"probabilityAltCalibrated\":0.93451727033965}\n"
     ]
    },
    {
     "data": {
      "text/html": [
       "<div>\n",
       "<style scoped>\n",
       "    .dataframe tbody tr th:only-of-type {\n",
       "        vertical-align: middle;\n",
       "    }\n",
       "\n",
       "    .dataframe tbody tr th {\n",
       "        vertical-align: top;\n",
       "    }\n",
       "\n",
       "    .dataframe thead th {\n",
       "        text-align: right;\n",
       "    }\n",
       "</style>\n",
       "<table border=\"1\" class=\"dataframe\">\n",
       "  <thead>\n",
       "    <tr style=\"text-align: right;\">\n",
       "      <th></th>\n",
       "      <th>firstName</th>\n",
       "      <th>lastName</th>\n",
       "      <th>ethnicityAlt</th>\n",
       "      <th>ethnicity</th>\n",
       "    </tr>\n",
       "  </thead>\n",
       "  <tbody>\n",
       "    <tr>\n",
       "      <th>0</th>\n",
       "      <td>Vinod,</td>\n",
       "      <td>Babu,</td>\n",
       "      <td>Nepalese,</td>\n",
       "      <td>Indian,</td>\n",
       "    </tr>\n",
       "  </tbody>\n",
       "</table>\n",
       "</div>"
      ],
      "text/plain": [
       "  firstName lastName ethnicityAlt ethnicity\n",
       "0    Vinod,    Babu,    Nepalese,   Indian,"
      ]
     },
     "execution_count": 22,
     "metadata": {},
     "output_type": "execute_result"
    }
   ],
   "source": [
    "url = \"https://v2.namsor.com/NamSorAPIv2/api2/json/diaspora/US/Vinod/Babu\"\n",
    "response = requests.request(\"GET\", url, headers=headers)\n",
    "print(response.text)\n",
    "\n",
    "#Writing JSON to a file, we need to ensure that the data type is in json format\n",
    "Vinod_Babu = response.json()\n",
    "\n",
    "#we have opened a file named .txt in writing mode using 'w'. If the file doesn't already exist, it will be created. \n",
    "#Then, json.dump() transforms dictionary to a JSON string which will be saved in the .txt file.\n",
    "#When you run the program, the .txt file will be created.\n",
    "with open('Vinod_Babu.txt', 'w') as json_file:\n",
    "  json.dump(Vinod_Babu, json_file)\n",
    "\n",
    "#Importing the .txt file\n",
    "data = pd.read_csv('Vinod_Babu.txt', sep=\" \", header=None )\n",
    "\n",
    "#create DataFrame and select the columns for First Name, Last Name, Ethnicity, Alternate Ethnicity\n",
    "Vinod_Babu = pd.DataFrame(data, columns=[5,7,11,13])\n",
    "#Renaming column name in Pandas\n",
    "Vinod_Babu.rename({5: 'firstName',7:'lastName', 11:'ethnicityAlt', 13:'ethnicity'}, axis=1, inplace=True)\n",
    "Vinod_Babu.head()"
   ]
  },
  {
   "cell_type": "code",
   "execution_count": 23,
   "id": "37534b8f",
   "metadata": {},
   "outputs": [
    {
     "name": "stdout",
     "output_type": "stream",
     "text": [
      "{\"script\":\"LATIN\",\"id\":\"b7ca6063-a0d4-48f7-8f26-03a6e1f09a0c\",\"firstName\":\"Ajeesh\",\"lastName\":\"Mohan\",\"score\":24.836715919669064,\"ethnicityAlt\":\"TrinidadTobago\",\"ethnicity\":\"Indian\",\"lifted\":false,\"countryIso2\":\"US\",\"ethnicitiesTop\":[\"Indian\",\"TrinidadTobago\",\"Pakistanese\",\"Mauritius\",\"Iranian\",\"Bahrani\",\"Afghan\",\"Bangladeshi\",\"Malays\",\"Sri Lankan\"],\"probabilityCalibrated\":0.8498575448620115,\"probabilityAltCalibrated\":0.8536653667071067}\n"
     ]
    },
    {
     "data": {
      "text/html": [
       "<div>\n",
       "<style scoped>\n",
       "    .dataframe tbody tr th:only-of-type {\n",
       "        vertical-align: middle;\n",
       "    }\n",
       "\n",
       "    .dataframe tbody tr th {\n",
       "        vertical-align: top;\n",
       "    }\n",
       "\n",
       "    .dataframe thead th {\n",
       "        text-align: right;\n",
       "    }\n",
       "</style>\n",
       "<table border=\"1\" class=\"dataframe\">\n",
       "  <thead>\n",
       "    <tr style=\"text-align: right;\">\n",
       "      <th></th>\n",
       "      <th>firstName</th>\n",
       "      <th>lastName</th>\n",
       "      <th>ethnicityAlt</th>\n",
       "      <th>ethnicity</th>\n",
       "    </tr>\n",
       "  </thead>\n",
       "  <tbody>\n",
       "    <tr>\n",
       "      <th>0</th>\n",
       "      <td>Ajeesh,</td>\n",
       "      <td>Mohan,</td>\n",
       "      <td>TrinidadTobago,</td>\n",
       "      <td>Indian,</td>\n",
       "    </tr>\n",
       "  </tbody>\n",
       "</table>\n",
       "</div>"
      ],
      "text/plain": [
       "  firstName lastName     ethnicityAlt ethnicity\n",
       "0   Ajeesh,   Mohan,  TrinidadTobago,   Indian,"
      ]
     },
     "execution_count": 23,
     "metadata": {},
     "output_type": "execute_result"
    }
   ],
   "source": [
    "url = \"https://v2.namsor.com/NamSorAPIv2/api2/json/diaspora/US/Ajeesh/Mohan\"\n",
    "response = requests.request(\"GET\", url, headers=headers)\n",
    "print(response.text)\n",
    "\n",
    "#Writing JSON to a file, we need to ensure that the data type is in json format\n",
    "Ajeesh_Mohan = response.json()\n",
    "\n",
    "#we have opened a file named .txt in writing mode using 'w'. If the file doesn't already exist, it will be created. \n",
    "#Then, json.dump() transforms dictionary to a JSON string which will be saved in the .txt file.\n",
    "#When you run the program, the .txt file will be created.\n",
    "with open('Ajeesh_Mohan.txt', 'w') as json_file:\n",
    "  json.dump(Ajeesh_Mohan, json_file)\n",
    "\n",
    "#Importing the .txt file\n",
    "data = pd.read_csv('Ajeesh_Mohan.txt', sep=\" \", header=None )\n",
    "\n",
    "#create DataFrame and select the columns for First Name, Last Name, Ethnicity, Alternate Ethnicity\n",
    "Ajeesh_Mohan = pd.DataFrame(data, columns=[5,7,11,13])\n",
    "#Renaming column name in Pandas\n",
    "Ajeesh_Mohan.rename({5: 'firstName',7:'lastName', 11:'ethnicityAlt', 13:'ethnicity'}, axis=1, inplace=True)\n",
    "Ajeesh_Mohan.head()"
   ]
  },
  {
   "cell_type": "code",
   "execution_count": 24,
   "id": "4aa72029",
   "metadata": {},
   "outputs": [
    {
     "name": "stdout",
     "output_type": "stream",
     "text": [
      "{\"script\":\"LATIN\",\"id\":\"bd90aa72-a8d5-49ea-9656-6160a1fdd31a\",\"firstName\":\"Rekha\",\"lastName\":\"Balasubramanian\",\"score\":52.26496584466179,\"ethnicityAlt\":\"Armenian\",\"ethnicity\":\"Indian\",\"lifted\":false,\"countryIso2\":\"US\",\"ethnicitiesTop\":[\"Indian\",\"Armenian\",\"Sri Lankan\",\"Mauritius\",\"Pakistanese\",\"TrinidadTobago\",\"Surinamese\",\"HispanoLatino\",\"Nepalese\",\"Jewish\"],\"probabilityCalibrated\":0.9532126587586487,\"probabilityAltCalibrated\":0.9532126587586487}\n"
     ]
    },
    {
     "data": {
      "text/html": [
       "<div>\n",
       "<style scoped>\n",
       "    .dataframe tbody tr th:only-of-type {\n",
       "        vertical-align: middle;\n",
       "    }\n",
       "\n",
       "    .dataframe tbody tr th {\n",
       "        vertical-align: top;\n",
       "    }\n",
       "\n",
       "    .dataframe thead th {\n",
       "        text-align: right;\n",
       "    }\n",
       "</style>\n",
       "<table border=\"1\" class=\"dataframe\">\n",
       "  <thead>\n",
       "    <tr style=\"text-align: right;\">\n",
       "      <th></th>\n",
       "      <th>firstName</th>\n",
       "      <th>lastName</th>\n",
       "      <th>ethnicityAlt</th>\n",
       "      <th>ethnicity</th>\n",
       "    </tr>\n",
       "  </thead>\n",
       "  <tbody>\n",
       "    <tr>\n",
       "      <th>0</th>\n",
       "      <td>Rekha,</td>\n",
       "      <td>Balasubramanian,</td>\n",
       "      <td>Armenian,</td>\n",
       "      <td>Indian,</td>\n",
       "    </tr>\n",
       "  </tbody>\n",
       "</table>\n",
       "</div>"
      ],
      "text/plain": [
       "  firstName          lastName ethnicityAlt ethnicity\n",
       "0    Rekha,  Balasubramanian,    Armenian,   Indian,"
      ]
     },
     "execution_count": 24,
     "metadata": {},
     "output_type": "execute_result"
    }
   ],
   "source": [
    "url = \"https://v2.namsor.com/NamSorAPIv2/api2/json/diaspora/US/Rekha/Balasubramanian\"\n",
    "response = requests.request(\"GET\", url, headers=headers)\n",
    "print(response.text)\n",
    "\n",
    "#Writing JSON to a file, we need to ensure that the data type is in json format\n",
    "Rekha_Balasubramanian = response.json()\n",
    "\n",
    "#we have opened a file named .txt in writing mode using 'w'. If the file doesn't already exist, it will be created. \n",
    "#Then, json.dump() transforms dictionary to a JSON string which will be saved in the .txt file.\n",
    "#When you run the program, the .txt file will be created.\n",
    "with open('Rekha_Balasubramanian.txt', 'w') as json_file:\n",
    "  json.dump(Rekha_Balasubramanian, json_file)\n",
    "\n",
    "#Importing the .txt file\n",
    "data = pd.read_csv('Rekha_Balasubramanian.txt', sep=\" \", header=None )\n",
    "\n",
    "#create DataFrame and select the columns for First Name, Last Name, Ethnicity, Alternate Ethnicity\n",
    "Rekha_Balasubramanian = pd.DataFrame(data, columns=[5,7,11,13])\n",
    "#Renaming column name in Pandas\n",
    "Rekha_Balasubramanian.rename({5: 'firstName',7:'lastName', 11:'ethnicityAlt', 13:'ethnicity'}, axis=1, inplace=True)\n",
    "Rekha_Balasubramanian.head()"
   ]
  },
  {
   "cell_type": "code",
   "execution_count": 25,
   "id": "905fe1b6",
   "metadata": {},
   "outputs": [
    {
     "name": "stdout",
     "output_type": "stream",
     "text": [
      "{\"script\":\"LATIN\",\"id\":\"713f7e75-218d-42e0-8692-2acf79562484\",\"firstName\":\"Jonah\",\"lastName\":\"Saarinen\",\"score\":46.64753999012117,\"ethnicityAlt\":\"Danish\",\"ethnicity\":\"Finnish\",\"lifted\":false,\"countryIso2\":\"US\",\"ethnicitiesTop\":[\"Finnish\",\"Danish\",\"Dutch\",\"Norwegian\",\"Jewish\",\"German\",\"HispanoLatino\",\"Swedish\",\"NativeHawaiian\",\"British\"],\"probabilityCalibrated\":0.9532126587586487,\"probabilityAltCalibrated\":0.9532126587586487}\n"
     ]
    },
    {
     "data": {
      "text/html": [
       "<div>\n",
       "<style scoped>\n",
       "    .dataframe tbody tr th:only-of-type {\n",
       "        vertical-align: middle;\n",
       "    }\n",
       "\n",
       "    .dataframe tbody tr th {\n",
       "        vertical-align: top;\n",
       "    }\n",
       "\n",
       "    .dataframe thead th {\n",
       "        text-align: right;\n",
       "    }\n",
       "</style>\n",
       "<table border=\"1\" class=\"dataframe\">\n",
       "  <thead>\n",
       "    <tr style=\"text-align: right;\">\n",
       "      <th></th>\n",
       "      <th>firstName</th>\n",
       "      <th>lastName</th>\n",
       "      <th>ethnicityAlt</th>\n",
       "      <th>ethnicity</th>\n",
       "    </tr>\n",
       "  </thead>\n",
       "  <tbody>\n",
       "    <tr>\n",
       "      <th>0</th>\n",
       "      <td>Jonah,</td>\n",
       "      <td>Saarinen,</td>\n",
       "      <td>Danish,</td>\n",
       "      <td>Finnish,</td>\n",
       "    </tr>\n",
       "  </tbody>\n",
       "</table>\n",
       "</div>"
      ],
      "text/plain": [
       "  firstName   lastName ethnicityAlt ethnicity\n",
       "0    Jonah,  Saarinen,      Danish,  Finnish,"
      ]
     },
     "execution_count": 25,
     "metadata": {},
     "output_type": "execute_result"
    }
   ],
   "source": [
    "url = \"https://v2.namsor.com/NamSorAPIv2/api2/json/diaspora/US/Jonah/Saarinen\"\n",
    "response = requests.request(\"GET\", url, headers=headers)\n",
    "print(response.text)\n",
    "\n",
    "#Writing JSON to a file, we need to ensure that the data type is in json format\n",
    "Jonah_Saarinen = response.json()\n",
    "\n",
    "#we have opened a file named .txt in writing mode using 'w'. If the file doesn't already exist, it will be created. \n",
    "#Then, json.dump() transforms dictionary to a JSON string which will be saved in the .txt file.\n",
    "#When you run the program, the .txt file will be created.\n",
    "with open('Jonah_Saarinen.txt', 'w') as json_file:\n",
    "  json.dump(Jonah_Saarinen, json_file)\n",
    "\n",
    "#Importing the .txt file\n",
    "data = pd.read_csv('Jonah_Saarinen.txt', sep=\" \", header=None )\n",
    "\n",
    "#create DataFrame and select the columns for First Name, Last Name, Ethnicity, Alternate Ethnicity\n",
    "Jonah_Saarinen = pd.DataFrame(data, columns=[5,7,11,13])\n",
    "#Renaming column name in Pandas\n",
    "Jonah_Saarinen.rename({5: 'firstName',7:'lastName', 11:'ethnicityAlt', 13:'ethnicity'}, axis=1, inplace=True)\n",
    "#Renaming column name in Pandas\n",
    "Jonah_Saarinen.rename({5: 'firstName',7:'lastName', 11:'ethnicityAlt', 13:'ethnicity'}, axis=1, inplace=True)\n",
    "Jonah_Saarinen.head()"
   ]
  },
  {
   "cell_type": "code",
   "execution_count": 28,
   "id": "527b548c",
   "metadata": {},
   "outputs": [
    {
     "name": "stdout",
     "output_type": "stream",
     "text": [
      "    firstName          lastName      ethnicityAlt         ethnicity\n",
      "0    William,            Smith,    HispanoLatino,          British,\n",
      "0     Davies,           Okeowo,           Kenyan,         Nigerian,\n",
      "0       Zere,         Iskinder,          Turkish,           Jewish,\n",
      "0   Emiliano,           Fuerte,       Portuguese,         Hispanic,\n",
      "0    Emigdio,            Valle,           French,         Hispanic,\n",
      "0     Juliet,            Grant,  AfricanAmerican,          British,\n",
      "0     Harvey,          Shepard,  AfricanAmerican,          British,\n",
      "0      Ulric,           Parker,          British,  AfricanAmerican,\n",
      "0    Azzurra,          Marotta,           Jewish,          Italian,\n",
      "0     Jacopo,           Greece,    HispanoLatino,          British,\n",
      "0     Daniel,            Evans,  AfricanAmerican,          British,\n",
      "0      Ozawa,            Nobuo,         Ivoirien,         Japanese,\n",
      "0    Akiyama,             Iwao,         Ivoirien,         Japanese,\n",
      "0   Mohammed,            Abara,         Algerian,         Moroccan,\n",
      "0    Gillian,        Madonsela,          Italian,    South African,\n",
      "0  Katherine,          Johnson,    HispanoLatino,  AfricanAmerican,\n",
      "0     Marina,             Cruz,         Hispanic,       Portuguese,\n",
      "0  Leelawati,              Kar,           Malays,           Indian,\n",
      "0     Nitika,            Sethi,         Nepalese,           Indian,\n",
      "0    Prabhat,            Baral,           Indian,         Nepalese,\n",
      "0      Vivek,            Jadoo,           Indian,        Mauritius,\n",
      "0      Vinod,             Babu,         Nepalese,           Indian,\n",
      "0     Ajeesh,            Mohan,   TrinidadTobago,           Indian,\n",
      "0      Rekha,  Balasubramanian,         Armenian,           Indian,\n",
      "0      Jonah,         Saarinen,           Danish,          Finnish,\n"
     ]
    }
   ],
   "source": [
    "#Union Pandas DataFrames using Concat\n",
    "union_dfs = pd.concat([William_Smith,Davies_Okeowo,Zere_Iskinder,Emiliano_Fuerte,Emigdio_Valle,Juliet_Grant,Harvey_Shepard,\n",
    "Ulric_Parker,Azzurra_Marotta,Jacopo_Greece,Daniel_Evans,Ozawa_Nobuo,Akiyama_Iwao,Mohammed_Abara,Gillian_Madonsela,\n",
    "Katherine_Johnson,Marina_Cruz,Leelawati_Kar,Nitika_Sethi,Prabhat_Baral,Vivek_Jadoo,Vinod_Babu,Ajeesh_Mohan,\n",
    "Rekha_Balasubramanian,Jonah_Saarinen])\n",
    "\n",
    "print(union_dfs)"
   ]
  },
  {
   "cell_type": "code",
   "execution_count": 29,
   "id": "40a0f00b",
   "metadata": {},
   "outputs": [],
   "source": [
    "union_dfs.to_excel(r'./Namsor API.xlsx', index=False)\n"
   ]
  },
  {
   "cell_type": "code",
   "execution_count": null,
   "id": "3f63425a",
   "metadata": {},
   "outputs": [],
   "source": []
  }
 ],
 "metadata": {
  "kernelspec": {
   "display_name": "Python 3 (ipykernel)",
   "language": "python",
   "name": "python3"
  },
  "language_info": {
   "codemirror_mode": {
    "name": "ipython",
    "version": 3
   },
   "file_extension": ".py",
   "mimetype": "text/x-python",
   "name": "python",
   "nbconvert_exporter": "python",
   "pygments_lexer": "ipython3",
   "version": "3.9.7"
  }
 },
 "nbformat": 4,
 "nbformat_minor": 5
}
